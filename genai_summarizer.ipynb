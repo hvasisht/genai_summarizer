{
  "cells": [
    {
      "cell_type": "markdown",
      "id": "fa53fa24",
      "metadata": {
        "id": "fa53fa24"
      },
      "source": [
        "# GenAI Summarizer Starter\n",
        "This notebook provides a quick start to building a Generative AI-based summarization tool using Hugging Face Transformers."
      ]
    },
    {
      "cell_type": "markdown",
      "source": [
        "## GenAI Summarizer using HuggingFace\n",
        "This notebook uses a fine-tuned transformer (`t5-small`) to generate summaries for long text input. Great for summarizing news, blogs, or any lengthy content.\n"
      ],
      "metadata": {
        "id": "xLlX0aPSAfC7"
      },
      "id": "xLlX0aPSAfC7"
    },
    {
      "cell_type": "code",
      "execution_count": null,
      "id": "f5864105",
      "metadata": {
        "id": "f5864105"
      },
      "outputs": [],
      "source": [
        "!pip install transformers --quiet"
      ]
    },
    {
      "cell_type": "code",
      "execution_count": null,
      "id": "3845f5f6",
      "metadata": {
        "colab": {
          "base_uri": "https://localhost:8080/"
        },
        "id": "3845f5f6",
        "outputId": "085e2215-28de-49c1-dccf-9c9a87648038"
      },
      "outputs": [
        {
          "output_type": "stream",
          "name": "stderr",
          "text": [
            "No model was supplied, defaulted to sshleifer/distilbart-cnn-12-6 and revision a4f8f3e (https://huggingface.co/sshleifer/distilbart-cnn-12-6).\n",
            "Using a pipeline without specifying a model name and revision in production is not recommended.\n",
            "Device set to use cpu\n",
            "Your max_length is set to 50, but your input_length is only 22. Since this is a summarization task, where outputs shorter than the input are typically wanted, you might consider decreasing max_length manually, e.g. summarizer('...', max_length=11)\n"
          ]
        },
        {
          "output_type": "stream",
          "name": "stdout",
          "text": [
            "Summary:  Harini Prasad Vasisht is pursuing Masters in Data Analytics Engineering . She is pursuing a Masters in data analytics engineering .\n"
          ]
        }
      ],
      "source": [
        "from transformers import pipeline\n",
        "\n",
        "#Load summarization pipeline\n",
        "summarizer = pipeline(\"summarization\")\n",
        "\n",
        "#Sample text\n",
        "text = \"\"\"Hello I am Harini Prasad Vasisht. I am pursuing Masters in Data Analytics Engineering\"\"\"\n",
        "\n",
        "#Generate summary\n",
        "summary = summarizer(text, max_length=50, min_length=25, do_sample=False)\n",
        "print(\"Summary:\", summary[0]['summary_text'])"
      ]
    }
  ],
  "metadata": {
    "colab": {
      "provenance": []
    },
    "language_info": {
      "name": "python"
    },
    "kernelspec": {
      "name": "python3",
      "display_name": "Python 3"
    }
  },
  "nbformat": 4,
  "nbformat_minor": 5
}